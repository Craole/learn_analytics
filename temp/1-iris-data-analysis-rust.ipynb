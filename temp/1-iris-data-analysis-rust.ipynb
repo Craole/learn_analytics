{
 "cells": [
  {
   "cell_type": "markdown",
   "id": "384e8810",
   "metadata": {},
   "source": [
    "## Install Required Dependencies"
   ]
  },
  {
   "cell_type": "code",
   "execution_count": 2,
   "id": "05fa3594",
   "metadata": {},
   "outputs": [],
   "source": [
    ":dep plotters = { version = \"^0.3.0\", default_features = false, features = [\"evcxr\", \"all_series\", \"all_elements\"] }\n",
    ":dep polars = {version = \"0.28.0\", features = [\"describe\", \"lazy\", \"ndarray\"]}\n",
    ":dep color-eyre = {version = \"0.6.2\"}\n",
    ":dep ndarray = {version = \"0.15.6\"}\n",
    ":dep smartcore = {version = \"0.3.1\"}\n",
    "// or\n",
    "// :dep polars = { git = \"https://github.com/pola-rs/polars\"}\"}\n",
    "// :dep polars = { git = \"https://github.com/yaahc/color-eyre\"}\n",
    "// :dep polars = { git = \"https://github.com/rust-ndarray/ndarray\"}"
   ]
  },
  {
   "cell_type": "markdown",
   "id": "1d74e942",
   "metadata": {},
   "source": [
    "## Import Modules"
   ]
  },
  {
   "cell_type": "code",
   "execution_count": null,
   "id": "140ecc92",
   "metadata": {},
   "outputs": [],
   "source": [
    "use polars::prelude::*;\n",
    "use polars::frame::DataFrame;\n",
    "use std::path::Path;\n",
    "use ndarray::{ArrayBase, DataMut, Dimension, concatenate, Axis};\n",
    "use plotters::prelude::*;\n",
    "use smartcore::linalg::basic::matrix::DenseMatrix;\n",
    "use ndarray::prelude::*;"
   ]
  },
  {
   "cell_type": "markdown",
   "id": "a9bfcd32",
   "metadata": {},
   "source": [
    "\n",
    "## Load Dataset"
   ]
  },
  {
   "cell_type": "code",
   "execution_count": null,
   "id": "0bf4c133",
   "metadata": {},
   "outputs": [],
   "source": [
    "fn read_data_frame_from_csv(\n",
    "    csv_file_path: &Path,\n",
    ") -> DataFrame {\n",
    "    CsvReader::from_path(csv_file_path)\n",
    "        .expect(\"Cannot open file.\")\n",
    "        .has_header(true)\n",
    "        .finish()\n",
    "        .unwrap()\n",
    "}\n",
    "\n",
    "let iris_file_path: &Path = Path::new(\"dataset/Iris.csv\");\n",
    "let iris_df: DataFrame = read_data_frame_from_csv(iris_file_path);"
   ]
  },
  {
   "cell_type": "markdown",
   "id": "861a1871",
   "metadata": {},
   "source": [
    "## About The Dataset"
   ]
  },
  {
   "cell_type": "markdown",
   "id": "9914bb3e",
   "metadata": {},
   "source": [
    "### Shape"
   ]
  },
  {
   "cell_type": "code",
   "execution_count": null,
   "id": "d8879960",
   "metadata": {},
   "outputs": [],
   "source": [
    "iris_df.shape()"
   ]
  },
  {
   "cell_type": "markdown",
   "id": "c087622a",
   "metadata": {},
   "source": [
    "### Head"
   ]
  },
  {
   "cell_type": "code",
   "execution_count": null,
   "id": "7955f71c",
   "metadata": {
    "scrolled": true
   },
   "outputs": [],
   "source": [
    "iris_df.head(Some(5))"
   ]
  },
  {
   "cell_type": "markdown",
   "id": "456622d0",
   "metadata": {},
   "source": [
    "### Tail"
   ]
  },
  {
   "cell_type": "code",
   "execution_count": null,
   "id": "2ee10ba2",
   "metadata": {},
   "outputs": [],
   "source": [
    "iris_df.tail(Some(5))"
   ]
  },
  {
   "cell_type": "markdown",
   "id": "17825991",
   "metadata": {},
   "source": [
    "### Describe"
   ]
  },
  {
   "cell_type": "code",
   "execution_count": null,
   "id": "49093475",
   "metadata": {
    "scrolled": true
   },
   "outputs": [],
   "source": [
    "iris_df.describe(None)"
   ]
  },
  {
   "cell_type": "markdown",
   "id": "7ba36cc8",
   "metadata": {},
   "source": [
    "### Columns"
   ]
  },
  {
   "cell_type": "code",
   "execution_count": null,
   "id": "e35feace",
   "metadata": {},
   "outputs": [],
   "source": [
    "let column_names = iris_df.get_column_names(); \n",
    "\n",
    "{\n",
    "    column_names\n",
    "}"
   ]
  },
  {
   "cell_type": "markdown",
   "id": "000ccc93",
   "metadata": {},
   "source": [
    "### Drop Species Column"
   ]
  },
  {
   "cell_type": "code",
   "execution_count": null,
   "id": "194ade74",
   "metadata": {},
   "outputs": [],
   "source": [
    "let numeric_iris_df: DataFrame = iris_df.drop(\"Species\")?;"
   ]
  },
  {
   "cell_type": "markdown",
   "id": "5e84dd09",
   "metadata": {},
   "source": [
    "### Mean"
   ]
  },
  {
   "cell_type": "code",
   "execution_count": null,
   "id": "cd5af63c",
   "metadata": {},
   "outputs": [],
   "source": [
    "println!(\"{}\", numeric_iris_df.mean());"
   ]
  },
  {
   "cell_type": "markdown",
   "id": "d8915589",
   "metadata": {},
   "source": [
    "### Max"
   ]
  },
  {
   "cell_type": "code",
   "execution_count": null,
   "id": "4933def4",
   "metadata": {
    "scrolled": false
   },
   "outputs": [],
   "source": [
    "println!(\"{}\", numeric_iris_df.max());"
   ]
  },
  {
   "cell_type": "markdown",
   "id": "29f13f5e",
   "metadata": {},
   "source": [
    "### Comvert To ndarray"
   ]
  },
  {
   "cell_type": "code",
   "execution_count": null,
   "id": "ac33887d",
   "metadata": {},
   "outputs": [],
   "source": [
    "let numeric_iris_ndarray: ArrayBase<_, _> = numeric_iris_df.to_ndarray::<Float64Type>().unwrap();"
   ]
  },
  {
   "cell_type": "code",
   "execution_count": null,
   "id": "ba466e30",
   "metadata": {
    "scrolled": true
   },
   "outputs": [],
   "source": [
    "numeric_iris_ndarray"
   ]
  },
  {
   "cell_type": "markdown",
   "id": "ca1f17c5",
   "metadata": {},
   "source": [
    "<hr />"
   ]
  },
  {
   "cell_type": "markdown",
   "id": "47d47a54",
   "metadata": {},
   "source": [
    "## ndarray"
   ]
  },
  {
   "cell_type": "markdown",
   "id": "5fd4af7e",
   "metadata": {},
   "source": [
    "### First Element"
   ]
  },
  {
   "cell_type": "code",
   "execution_count": null,
   "id": "caa142b9",
   "metadata": {},
   "outputs": [],
   "source": [
    "numeric_iris_ndarray[[0, 0]]"
   ]
  },
  {
   "cell_type": "markdown",
   "id": "a4921527",
   "metadata": {},
   "source": [
    "### First Row"
   ]
  },
  {
   "cell_type": "code",
   "execution_count": null,
   "id": "59383cd3",
   "metadata": {},
   "outputs": [],
   "source": [
    "numeric_iris_ndarray.slice(s![0, ..])"
   ]
  },
  {
   "cell_type": "markdown",
   "id": "9880b197",
   "metadata": {},
   "source": [
    "### Shape (rows, cols)"
   ]
  },
  {
   "cell_type": "code",
   "execution_count": null,
   "id": "4d286e5d",
   "metadata": {},
   "outputs": [],
   "source": [
    "numeric_iris_ndarray.dim()"
   ]
  },
  {
   "cell_type": "markdown",
   "id": "8df7233e",
   "metadata": {},
   "source": [
    "### Last Row"
   ]
  },
  {
   "cell_type": "code",
   "execution_count": null,
   "id": "3421e427",
   "metadata": {},
   "outputs": [],
   "source": [
    "let numeric_iris_ndarray_shape = numeric_iris_ndarray.dim(); // (rows, cols)\n",
    "// numeric_iris_ndarray.slice(s![numeric_iris_ndarray_shape.1 -1, ..])\n",
    "// or\n",
    "numeric_iris_ndarray.slice(s![-1, ..])"
   ]
  },
  {
   "cell_type": "markdown",
   "id": "25f0580d",
   "metadata": {},
   "source": [
    "### First Five Row"
   ]
  },
  {
   "cell_type": "code",
   "execution_count": null,
   "id": "0d36256d",
   "metadata": {},
   "outputs": [],
   "source": [
    "numeric_iris_ndarray.slice(s![0..5, ..])"
   ]
  },
  {
   "cell_type": "markdown",
   "id": "4ae53953",
   "metadata": {},
   "source": [
    "### Last Five Row"
   ]
  },
  {
   "cell_type": "code",
   "execution_count": null,
   "id": "bbb35d35",
   "metadata": {},
   "outputs": [],
   "source": [
    "numeric_iris_ndarray.slice(s![-5.., ..])"
   ]
  },
  {
   "cell_type": "markdown",
   "id": "f4b42d99",
   "metadata": {},
   "source": [
    "### Check for zero elements"
   ]
  },
  {
   "cell_type": "code",
   "execution_count": null,
   "id": "e4ff5189",
   "metadata": {},
   "outputs": [],
   "source": [
    "numeric_iris_ndarray.is_empty()"
   ]
  },
  {
   "cell_type": "markdown",
   "id": "7be5fc1e",
   "metadata": {},
   "source": [
    "<hr />"
   ]
  },
  {
   "cell_type": "markdown",
   "id": "bf6fea35",
   "metadata": {},
   "source": [
    "## Mathematics"
   ]
  },
  {
   "cell_type": "markdown",
   "id": "163db148",
   "metadata": {},
   "source": [
    "### Sum"
   ]
  },
  {
   "cell_type": "code",
   "execution_count": null,
   "id": "d4188560",
   "metadata": {},
   "outputs": [],
   "source": [
    "numeric_iris_ndarray.sum()"
   ]
  },
  {
   "cell_type": "markdown",
   "id": "63b753bd",
   "metadata": {},
   "source": [
    "### Sum Along Axis"
   ]
  },
  {
   "cell_type": "code",
   "execution_count": null,
   "id": "5b33caa2",
   "metadata": {},
   "outputs": [],
   "source": [
    "numeric_iris_ndarray.sum_axis(Axis(0))"
   ]
  },
  {
   "cell_type": "markdown",
   "id": "832d3033",
   "metadata": {},
   "source": [
    "### Mean"
   ]
  },
  {
   "cell_type": "code",
   "execution_count": null,
   "id": "5dddf68a",
   "metadata": {},
   "outputs": [],
   "source": [
    "numeric_iris_ndarray.mean().unwrap()"
   ]
  },
  {
   "cell_type": "markdown",
   "id": "c7733043",
   "metadata": {},
   "source": [
    "### Transpose"
   ]
  },
  {
   "cell_type": "code",
   "execution_count": null,
   "id": "71f6c578",
   "metadata": {},
   "outputs": [],
   "source": [
    "numeric_iris_ndarray.t()"
   ]
  },
  {
   "cell_type": "markdown",
   "id": "88a8af17",
   "metadata": {},
   "source": [
    "### 2-D matrix multiply"
   ]
  },
  {
   "cell_type": "code",
   "execution_count": null,
   "id": "c3d3450e",
   "metadata": {},
   "outputs": [],
   "source": [
    "numeric_iris_ndarray.dot(&numeric_iris_ndarray.t())"
   ]
  },
  {
   "cell_type": "markdown",
   "id": "aac50180",
   "metadata": {},
   "source": [
    "<hr />"
   ]
  },
  {
   "cell_type": "markdown",
   "id": "007882a8",
   "metadata": {},
   "source": [
    "## Arithmetics"
   ]
  },
  {
   "cell_type": "code",
   "execution_count": null,
   "id": "66d1926f",
   "metadata": {},
   "outputs": [],
   "source": [
    "&numeric_iris_ndarray + 1.0"
   ]
  },
  {
   "cell_type": "markdown",
   "id": "e531193c",
   "metadata": {},
   "source": [
    "<hr />"
   ]
  },
  {
   "cell_type": "markdown",
   "id": "534cb70e",
   "metadata": {},
   "source": [
    "## Sepal Length Column"
   ]
  },
  {
   "cell_type": "code",
   "execution_count": null,
   "id": "e0ab8d7e",
   "metadata": {
    "scrolled": false
   },
   "outputs": [],
   "source": [
    "numeric_iris_ndarray.column(1)"
   ]
  },
  {
   "cell_type": "code",
   "execution_count": null,
   "id": "98276f31",
   "metadata": {},
   "outputs": [],
   "source": [
    "let a = numeric_iris_ndarray.column(1);\n",
    "concatenate(Axis(1), &[numeric_iris_ndarray.column(1), numeric_iris_ndarray.column(1)])"
   ]
  },
  {
   "cell_type": "code",
   "execution_count": null,
   "id": "f95db658",
   "metadata": {},
   "outputs": [],
   "source": [
    "numeric_iris_df.get_column_names()"
   ]
  },
  {
   "cell_type": "markdown",
   "id": "86c72398",
   "metadata": {},
   "source": [
    "## Dataset Dimensions"
   ]
  },
  {
   "cell_type": "code",
   "execution_count": null,
   "id": "a48729cb",
   "metadata": {},
   "outputs": [],
   "source": [
    "// Separate\n",
    "    let mask = labels.map(|elem| elem == \"Iris-virginica\");\n",
    "    let mut count = -1;\n",
    "    let mut indices = Vec::<usize>::new();\n",
    "    let mask = labels.map(|elem| {\n",
    "        count += 1;\n",
    "        if(elem == \"Iris-virginica\") { indices.push(count as usize) };\n",
    "        elem == \"Iris-virginica\"\n",
    "        }\n",
    "    );\n",
    "    let virginica = features.select(Axis(0), &indices);"
   ]
  },
  {
   "cell_type": "markdown",
   "id": "183aa9f1",
   "metadata": {},
   "source": [
    "<hr />"
   ]
  },
  {
   "cell_type": "markdown",
   "id": "523bfbbf",
   "metadata": {},
   "source": [
    "## Scatter Plot"
   ]
  },
  {
   "cell_type": "markdown",
   "id": "331a7852",
   "metadata": {},
   "source": [
    "### Sepal"
   ]
  },
  {
   "cell_type": "code",
   "execution_count": null,
   "id": "da5e36a8",
   "metadata": {
    "scrolled": false
   },
   "outputs": [],
   "source": [
    "let sepal_samples:Vec<(f64,f64)> = {\n",
    "    let sepal_length_cm: DataFrame = iris_df.select(vec![\"SepalLengthCm\"]).unwrap();\n",
    "    let mut sepal_length = sepal_length_cm.to_ndarray::<Float64Type>().unwrap().into_raw_vec().into_iter();\n",
    "    let sepal_width_cm: DataFrame = iris_df.select(vec![\"SepalWidthCm\"]).unwrap();\n",
    "    let mut sepal_width = sepal_width_cm.to_ndarray::<Float64Type>().unwrap().into_raw_vec().into_iter();\n",
    "    sepal_width.zip(sepal_length).collect()\n",
    "};\n",
    "\n",
    "evcxr_figure((640, 480), |root| {\n",
    "    let mut chart = ChartBuilder::on(&root)\n",
    "        .caption(\"Iris Dataset\", (\"Arial\", 30).into_font())\n",
    "        .x_label_area_size(40)\n",
    "        .y_label_area_size(40)\n",
    "        .build_cartesian_2d(1f64..5f64, 3f64..9f64)?;\n",
    "    \n",
    "    chart.configure_mesh()\n",
    "        .x_desc(\"Sepal Length (cm)\")\n",
    "        .y_desc(\"Sepal Width (cm)\")\n",
    "        .draw()?;\n",
    "    \n",
    "    chart.draw_series(sepal_samples.iter().map(|(x, y)| Circle::new((*x,*y), 3, BLUE.filled())));\n",
    "\n",
    "    Ok(())\n",
    "}).style(\"width:60%\")"
   ]
  },
  {
   "cell_type": "markdown",
   "id": "9182ebce",
   "metadata": {},
   "source": [
    "### Petal"
   ]
  },
  {
   "cell_type": "code",
   "execution_count": null,
   "id": "b2d5f0b1",
   "metadata": {},
   "outputs": [],
   "source": [
    "let petal_samples: Vec<(f64,f64)> = {\n",
    "    let petal_length_cm: DataFrame = iris_df.select(vec![\"PetalLengthCm\"]).unwrap();\n",
    "    let mut petal_length = petal_length_cm.to_ndarray::<Float64Type>().unwrap().into_raw_vec().into_iter();\n",
    "    let petal_width_cm: DataFrame = iris_df.select(vec![\"PetalWidthCm\"]).unwrap();\n",
    "    let mut petal_width = petal_width_cm.to_ndarray::<Float64Type>().unwrap().into_raw_vec().into_iter();\n",
    "    petal_width.zip(petal_length).collect()\n",
    "};\n",
    "\n",
    "evcxr_figure((640, 480), |root| {\n",
    "    let mut chart = ChartBuilder::on(&root)\n",
    "        .caption(\"Iris Dataset\", (\"Arial\", 30).into_font())\n",
    "        .x_label_area_size(40)\n",
    "        .y_label_area_size(40)\n",
    "        .build_cartesian_2d(0f64..3f64, 0f64..8f64)?;\n",
    "    \n",
    "    chart.configure_mesh()\n",
    "        .x_desc(\"Petal Length (cm)\")\n",
    "        .y_desc(\"Petal Width (cm)\")\n",
    "        .draw()?;\n",
    "    \n",
    "    chart.draw_series(petal_samples.iter().map(|(x, y)| Circle::new((*x,*y), 3, GREEN.filled())));\n",
    "\n",
    "    Ok(())\n",
    "}).style(\"width:60%\")"
   ]
  },
  {
   "cell_type": "markdown",
   "id": "1942870b",
   "metadata": {},
   "source": [
    "## Histogram"
   ]
  },
  {
   "cell_type": "markdown",
   "id": "29d85aee",
   "metadata": {},
   "source": [
    "### TODO"
   ]
  },
  {
   "cell_type": "markdown",
   "id": "9acf4c06",
   "metadata": {},
   "source": [
    "## Combination of Histogram and Scatter"
   ]
  },
  {
   "cell_type": "markdown",
   "id": "9fafb925",
   "metadata": {},
   "source": [
    "### TODO"
   ]
  },
  {
   "cell_type": "code",
   "execution_count": null,
   "id": "5ae2d0cb",
   "metadata": {},
   "outputs": [],
   "source": [
    "evcxr_figure((640, 480), |root| {\n",
    "    let root = root.titled(\"Scatter with Histogram Example\", (\"Arial\", 20).into_font())?;\n",
    "    \n",
    "    let areas = root.split_by_breakpoints([560], [80]);\n",
    "\n",
    "    let mut x_hist_ctx = ChartBuilder::on(&areas[0])\n",
    "        .y_label_area_size(40)\n",
    "        .build_cartesian_2d(1f64..5f64, 3f64..9f64)?;\n",
    "    let mut y_hist_ctx = ChartBuilder::on(&areas[3])\n",
    "        .x_label_area_size(40)\n",
    "        .build_cartesian_2d(1f64..5f64, 3f64..9f64)?;\n",
    "    let mut scatter_ctx = ChartBuilder::on(&areas[2])\n",
    "        .x_label_area_size(40)\n",
    "        .y_label_area_size(40)\n",
    "        .build_cartesian_2d(1f64..5f64, 3f64..9f64)?;\n",
    "    scatter_ctx.configure_mesh()\n",
    "        .disable_x_mesh()\n",
    "        .disable_y_mesh()\n",
    "        .draw()?;\n",
    "    scatter_ctx.draw_series(sepal_samples.iter().map(|(x,y)| Circle::new((*x,*y), 3, GREEN.filled())))?;\n",
    "    let x_hist = Histogram::vertical(&x_hist_ctx)\n",
    "        .style(RED.filled())\n",
    "        .margin(0)\n",
    "        .data(sepal_samples.iter().map(|(x,_)| ((x*10.0) as u32, 0.01)));\n",
    "    let y_hist = Histogram::horizontal(&y_hist_ctx)\n",
    "        .style(GREEN.filled())\n",
    "        .margin(0)\n",
    "        .data(sepal_samples.iter().map(|(_,y)| ((y*10.0) as u32, 0.01)));\n",
    "    x_hist_ctx.draw_series(x_hist)?;\n",
    "    y_hist_ctx.draw_series(y_hist)?;\n",
    "    \n",
    "    Ok(())\n",
    "}).style(\"width:60%\")"
   ]
  },
  {
   "cell_type": "markdown",
   "id": "235733b3",
   "metadata": {},
   "source": [
    "## ML Model"
   ]
  },
  {
   "cell_type": "code",
   "execution_count": null,
   "id": "662024b4",
   "metadata": {},
   "outputs": [],
   "source": [
    "let features: DataFrame = iris_df.select(vec![\"SepalLengthCm\", \"SepalWidthCm\", \"PetalLengthCm\", \"PetalWidthCm\"]).unwrap();"
   ]
  },
  {
   "cell_type": "code",
   "execution_count": null,
   "id": "712540c4",
   "metadata": {},
   "outputs": [],
   "source": [
    "let features: DataFrame = iris_df.select(vec![\"SepalLengthCm\"]).unwrap();\n",
    "let array = features.to_ndarray::<Float64Type>().unwrap().into_raw_vec();"
   ]
  },
  {
   "cell_type": "code",
   "execution_count": null,
   "id": "2cb2a939",
   "metadata": {},
   "outputs": [],
   "source": [
    "array"
   ]
  },
  {
   "cell_type": "code",
   "execution_count": null,
   "id": "2fa9338a",
   "metadata": {},
   "outputs": [],
   "source": [
    "let features: DataFrame = iris_df.select(vec![\"SepalWidthCm\"]).unwrap();\n",
    "let array = features.to_ndarray::<Float64Type>().unwrap().into_raw_vec();\n",
    "array"
   ]
  }
 ],
 "metadata": {
  "kernelspec": {
   "display_name": "Rust",
   "language": "rust",
   "name": "rust"
  },
  "language_info": {
   "codemirror_mode": "rust",
   "file_extension": ".rs",
   "mimetype": "text/rust",
   "name": "rust",
   "pygment_lexer": "rust",
   "version": ""
  }
 },
 "nbformat": 4,
 "nbformat_minor": 5
}
